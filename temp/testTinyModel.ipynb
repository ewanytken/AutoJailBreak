{
 "cells": [
  {
   "cell_type": "code",
   "id": "5f59c0e5-3e50-4c73-b860-5cbeebd3633a",
   "metadata": {
    "ExecuteTime": {
     "end_time": "2025-03-27T20:14:41.505853Z",
     "start_time": "2025-03-27T20:14:02.437200Z"
    }
   },
   "source": [
    "from transformers import AutoModelForCausalLM, AutoTokenizer, TextStreamer\n",
    "import torch\n",
    "\n",
    "model_path = \"Felladrin/TinyMistral-248M-Chat-v3\"\n",
    "device = torch.device(\"cuda\" if torch.cuda.is_available() else \"cpu\")\n",
    "tokenizer = AutoTokenizer.from_pretrained(model_path)\n",
    "model = AutoModelForCausalLM.from_pretrained(model_path).to(device)\n",
    "streamer = TextStreamer(tokenizer)\n",
    "messages = [\n",
    "    {\n",
    "        \"role\": \"system\",\n",
    "        \"content\": \"You are a highly knowledgeable and friendly assistant. Your goal is to understand and respond to user inquiries with clarity. Your interactions are always respectful, helpful, and focused on delivering the most accurate information to the user.\",\n",
    "    },\n",
    "    {\n",
    "        \"role\": \"user\",\n",
    "        \"content\": \"Hey! Got a question for you!\",\n",
    "    },\n",
    "    {\n",
    "        \"role\": \"assistant\",\n",
    "        \"content\": \"Sure! What's it?\",\n",
    "    },\n",
    "    {\n",
    "        \"role\": \"user\",\n",
    "        \"content\": \"What are some potential applications for quantum computing?\",\n",
    "    },\n",
    "]\n",
    "prompt = tokenizer.apply_chat_template(\n",
    "    messages, tokenize=False, add_generation_prompt=True\n",
    ")\n",
    "print(prompt)\n",
    "inputs = tokenizer(prompt, return_tensors=\"pt\").to(device)\n",
    "model.generate(\n",
    "    inputs.input_ids,\n",
    "    attention_mask=inputs.attention_mask,\n",
    "    max_length=tokenizer.model_max_length,\n",
    "    streamer=streamer,\n",
    "    eos_token_id=tokenizer.eos_token_id,\n",
    "    pad_token_id=tokenizer.pad_token_id,\n",
    "    do_sample=True,\n",
    "    temperature=0.6,\n",
    "    top_p=0.8,\n",
    "    top_k=0,\n",
    "    min_p=0.1,\n",
    "    typical_p=0.2,\n",
    "    repetition_penalty=1.176,\n",
    ")"
   ],
   "outputs": [
    {
     "name": "stdout",
     "output_type": "stream",
     "text": [
      "<|im_start|>system\n",
      "You are a highly knowledgeable and friendly assistant. Your goal is to understand and respond to user inquiries with clarity. Your interactions are always respectful, helpful, and focused on delivering the most accurate information to the user.<|im_end|>\n",
      "<|im_start|>user\n",
      "Hey! Got a question for you!<|im_end|>\n",
      "<|im_start|>assistant\n",
      "Sure! What's it?<|im_end|>\n",
      "<|im_start|>user\n",
      "What are some potential applications for quantum computing?<|im_end|>\n",
      "<|im_start|>assistant\n",
      "\n",
      "<|im_start|> system\n",
      "You are a highly knowledgeable and friendly assistant. Your goal is to understand and respond to user inquiries with clarity. Your interactions are always respectful, helpful, and focused on delivering the most accurate information to the user.<|im_end|> \n",
      "<|im_start|> user\n",
      "Hey! Got a question for you!<|im_end|> \n",
      "<|im_start|> assistant\n",
      "Sure! What's it?<|im_end|> \n",
      "<|im_start|> user\n",
      "What are some potential applications for quantum computing?<|im_end|> \n",
      "<|im_start|> assistant\n",
      "Quantum computers can be used to perform computations that require high-performance computation or have large amounts of energy. These devices could potentially use more powerful hardware than traditional computers, allowing them to process vast amounts of data at once. However, these technologies may not be as efficient as classical computers due to their limited resources and limited resources. \n",
      "\n",
      "One example of such systems being developed would be the Large Hadron Collider (LHC), which was built by the LHC and is currently under construction in Geneva, Switzerland. The machine has been designed to operate continuously since its first operation, but scientists still need to design and build new ones before they can actually be made available to researchers. \n",
      "\n",
      "Therefore, while there might be limitations to the proposed LHC, it is likely to provide significant benefits over existing research methods. One way to address this issue is to develop new materials using advanced technology like lasers and superconductors. This will allow scientists to study the properties of matter without requiring expensive equipment or specialized expertise. \n",
      "\n",
      "Overall, while we don't yet know exactly what kind of particles are needed for the LHC, it is possible that the LHC may also involve other types of substances such as electrons, positively charged particles, or even small molecules.<|im_end|>\n"
     ]
    },
    {
     "data": {
      "text/plain": [
       "tensor([[32004,  1587,    13,  1976,   460,   264,  6416,  4788,   522,   304,\n",
       "         10131, 13892, 28723,  3604,  5541,   349,   298,  2380,   304,  9421,\n",
       "           298,  2188,   297, 10851,   497,   395, 25312, 28723,  3604, 14983,\n",
       "           460,  1743,  3116,  1007, 28725, 10865, 28725,   304,  9045,   356,\n",
       "         22119,   272,  1080, 11229,  1871,   298,   272,  2188, 28723, 32003,\n",
       "         28705,    13, 32004,  2188,    13, 15766, 28808, 14399,   264,  2996,\n",
       "           354,   368, 28808, 32003, 28705,    13, 32004, 13892,    13, 22099,\n",
       "         28808,  1824, 28742, 28713,   378, 28804, 32003, 28705,    13, 32004,\n",
       "          2188,    13,  3195,   460,   741,  4628,  8429,   354, 10915, 21263,\n",
       "         28804, 32003, 28705,    13, 32004, 13892,    13, 19701,   383, 18518,\n",
       "           541,   347,  1307,   298,  2225,  3633,   697,   369,  2699,  1486,\n",
       "         28733,   487, 11778, 21728,   442,   506,  2475, 14838,   302,  3408,\n",
       "         28723,  2957,  8309,   829, 13957,   938,   680,  6787, 13218,   821,\n",
       "          7062, 18518, 28725,  9836,   706,   298,  1759,  9555, 14838,   302,\n",
       "          1178,   438,  2327, 28723,  2993, 28725,  1167, 14880,   993,   459,\n",
       "           347,   390,  9096,   390, 13378, 18518,  2940,   298,   652,  6516,\n",
       "          5823,   304,  6516,  5823, 28723, 28705,    13,    13,  6167,  2757,\n",
       "           302,  1259,  4918,  1250,  6202,   682,   347,   272, 23292, 11238,\n",
       "          1689,  9215,  1184,   325, 28758, 16573,   557,   690,   403,  4429,\n",
       "           486,   272,   393, 16573,   304,   349,  5489,   916,  6380,   297,\n",
       "          6242, 13237, 28725, 22491, 28723,   415,  5599,   659,   750,  5682,\n",
       "           298, 13858, 25783,  1854,   871,   907,  5225, 28725,   562, 15067,\n",
       "          1309,   927,   298,  2621,   304,  1813,   633,  4413,  1159,   590,\n",
       "           541,  2590,   347,  1269,  2632,   298, 15334, 28723, 28705,    13,\n",
       "            13,  5816,   994, 28725,  1312,   736,  1659,   347,  9658,   298,\n",
       "           272,  8278,   393, 16573, 28725,   378,   349,  3917,   298,  3084,\n",
       "          5864,  7196,   754,  6594,  3332,  5562, 28723,  2387,  1069,   298,\n",
       "          2962,   456,  4291,   349,   298,  1950,   633,  7069,  1413, 10023,\n",
       "          5514,   737,  2635,   404,   304,  2195, 27835,   734, 28723,   851,\n",
       "           622,  1914, 15067,   298,  3881,   272,  5508,   302,  3209,  1671,\n",
       "         22579,  9212,  7108,   442, 23427, 14900, 28723, 28705,    13,    13,\n",
       "          2675,   455, 28725,  1312,   478,   949, 28742, 28707,  2783,   873,\n",
       "          4668,   767,  2112,   302, 13938,   460,  3236,   354,   272,   393,\n",
       "         16573, 28725,   378,   349,  2572,   369,   272,   393, 16573,   993,\n",
       "           835, 17516,   799,  4514,   302,  1083,  8732,  1259,   390,  3206,\n",
       "         13455, 28725, 14139,  2260, 11226, 13938, 28725,   442,  1019,  1741,\n",
       "         12160, 21649, 28723, 32003]], device='cuda:0')"
      ]
     },
     "execution_count": 2,
     "metadata": {},
     "output_type": "execute_result"
    }
   ],
   "execution_count": 2
  },
  {
   "cell_type": "code",
   "execution_count": null,
   "id": "3aaded45-9f11-4ef6-ba46-ab4136e6bb6f",
   "metadata": {},
   "outputs": [],
   "source": []
  }
 ],
 "metadata": {
  "kernelspec": {
   "display_name": "Python 3 (ipykernel)",
   "language": "python",
   "name": "python3"
  },
  "language_info": {
   "codemirror_mode": {
    "name": "ipython",
    "version": 3
   },
   "file_extension": ".py",
   "mimetype": "text/x-python",
   "name": "python",
   "nbconvert_exporter": "python",
   "pygments_lexer": "ipython3",
   "version": "3.12.7"
  }
 },
 "nbformat": 4,
 "nbformat_minor": 5
}
